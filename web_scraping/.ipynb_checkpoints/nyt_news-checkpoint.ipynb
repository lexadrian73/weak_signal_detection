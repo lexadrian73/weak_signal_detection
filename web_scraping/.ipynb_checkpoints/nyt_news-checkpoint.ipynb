{
 "cells": [
  {
   "cell_type": "markdown",
   "id": "1056e1e7-8fb0-4bac-ba25-0f528b646329",
   "metadata": {},
   "source": [
    "## Librerias"
   ]
  },
  {
   "cell_type": "code",
   "execution_count": 14,
   "id": "0f418cea-efd4-4f9e-a260-6e2e52287eda",
   "metadata": {
    "tags": []
   },
   "outputs": [],
   "source": [
    "from pynytimes import NYTAPI\n",
    "import datetime\n",
    "import pandas as pd\n",
    "\n",
    "## API\n",
    "nyt = NYTAPI(\"3nMBKQiWEgtX5eGgWmzyBi0fGJDstKW4\", parse_dates=True)\n",
    "# https://pypi.org/project/pynytimes/0.8.0/"
   ]
  },
  {
   "cell_type": "code",
   "execution_count": 17,
   "id": "03f67efe-4990-4f21-8cd2-bf90a726e9e6",
   "metadata": {
    "tags": []
   },
   "outputs": [
    {
     "name": "stderr",
     "output_type": "stream",
     "text": [
      "C:\\Users\\Alexis\\anaconda3\\Lib\\site-packages\\pynytimes\\helpers\\article_search.py:33: UserWarning: Asking for a lot of results, because of rate limits it can take a while.\n",
      "  warnings.warn(\n",
      "C:\\Users\\Alexis\\anaconda3\\Lib\\site-packages\\pynytimes\\helpers\\article_search.py:33: UserWarning: Asking for a lot of results, because of rate limits it can take a while.\n",
      "  warnings.warn(\n",
      "C:\\Users\\Alexis\\anaconda3\\Lib\\site-packages\\pynytimes\\helpers\\article_search.py:33: UserWarning: Asking for a lot of results, because of rate limits it can take a while.\n",
      "  warnings.warn(\n",
      "C:\\Users\\Alexis\\anaconda3\\Lib\\site-packages\\pynytimes\\helpers\\article_search.py:33: UserWarning: Asking for a lot of results, because of rate limits it can take a while.\n",
      "  warnings.warn(\n",
      "C:\\Users\\Alexis\\anaconda3\\Lib\\site-packages\\pynytimes\\helpers\\article_search.py:33: UserWarning: Asking for a lot of results, because of rate limits it can take a while.\n",
      "  warnings.warn(\n",
      "C:\\Users\\Alexis\\anaconda3\\Lib\\site-packages\\pynytimes\\helpers\\article_search.py:33: UserWarning: Asking for a lot of results, because of rate limits it can take a while.\n",
      "  warnings.warn(\n",
      "C:\\Users\\Alexis\\anaconda3\\Lib\\site-packages\\pynytimes\\helpers\\article_search.py:33: UserWarning: Asking for a lot of results, because of rate limits it can take a while.\n",
      "  warnings.warn(\n"
     ]
    },
    {
     "name": "stdout",
     "output_type": "stream",
     "text": [
      "                                            abstract  \\\n",
      "0  A fundamental problem — tension between region...   \n",
      "1  Stanford is investigating Stephen Quake’s inte...   \n",
      "2  The automaker will sell about $2 billion in st...   \n",
      "3  Predict, a government research program, sought...   \n",
      "\n",
      "                                             web_url  \\\n",
      "0  https://www.nytimes.com/2019/03/06/health/who-...   \n",
      "1  https://www.nytimes.com/2019/04/14/health/gene...   \n",
      "2  https://www.nytimes.com/2019/05/03/business/de...   \n",
      "3  https://www.nytimes.com/2019/10/25/health/pred...   \n",
      "\n",
      "                                             snippet  \\\n",
      "0  A fundamental problem — tension between region...   \n",
      "1  Stanford is investigating Stephen Quake’s inte...   \n",
      "2  The automaker will sell about $2 billion in st...   \n",
      "3  Predict, a government research program, sought...   \n",
      "\n",
      "                                      lead_paragraph print_section print_page  \\\n",
      "0  The World Health Organization on Wednesday ann...             A          7   \n",
      "1  PALO ALTO, Calif. — “Success!” read the subjec...             A          1   \n",
      "2   Good Friday. (Want this by email? Sign up here.)           NaN        NaN   \n",
      "3  In a move that worries many public health expe...             D          1   \n",
      "\n",
      "               source                                         multimedia  \\\n",
      "0  The New York Times  [{'rank': 0, 'subtype': 'xlarge', 'caption': N...   \n",
      "1  The New York Times  [{'rank': 0, 'subtype': 'xlarge', 'caption': N...   \n",
      "2  The New York Times  [{'rank': 0, 'subtype': 'xlarge', 'caption': N...   \n",
      "3  The New York Times  [{'rank': 0, 'subtype': 'xlarge', 'caption': N...   \n",
      "\n",
      "                                            headline  \\\n",
      "0  {'main': 'W.H.O. Chief Plans to Reorganize a V...   \n",
      "1  {'main': 'Gene-Edited Babies: What a Chinese S...   \n",
      "2  {'main': 'DealBook Briefing: Tesla Is Raising ...   \n",
      "3  {'main': 'Scientists Were Hunting for the Next...   \n",
      "\n",
      "                                            keywords  \\\n",
      "0  [{'name': 'organizations', 'value': 'World Hea...   \n",
      "1  [{'name': 'subject', 'value': 'Genetic Enginee...   \n",
      "2  [{'name': 'subject', 'value': 'Stocks and Bond...   \n",
      "3  [{'name': 'subject', 'value': 'Epidemics', 'ra...   \n",
      "\n",
      "                   pub_date document_type news_desk  section_name  \\\n",
      "0 2019-03-06 19:26:48+00:00       article   Science        Health   \n",
      "1 2019-04-14 07:00:06+00:00       article   Science        Health   \n",
      "2 2019-05-03 10:12:53+00:00       article  Business  Business Day   \n",
      "3 2019-10-25 09:00:28+00:00       article   Science        Health   \n",
      "\n",
      "                                              byline type_of_material  \\\n",
      "0  {'original': 'By Donald G. McNeil Jr', 'person...             News   \n",
      "1  {'original': 'By Pam Belluck', 'person': [{'fi...             News   \n",
      "2  {'original': None, 'person': [], 'organization...             News   \n",
      "3  {'original': 'By Donald G. McNeil Jr', 'person...             News   \n",
      "\n",
      "                                                 _id  word_count  \\\n",
      "0  nyt://article/71fe0f23-4837-5fac-8539-5bffe398...         947   \n",
      "1  nyt://article/b29ff831-cd06-554e-9236-ba504445...        2180   \n",
      "2  nyt://article/ffce1cce-6da9-5239-adf9-544fa03d...        2021   \n",
      "3  nyt://article/93502bf4-3f0f-52fd-81b4-720c1b85...        1511   \n",
      "\n",
      "                                                 uri subsection_name  \n",
      "0  nyt://article/71fe0f23-4837-5fac-8539-5bffe398...             NaN  \n",
      "1  nyt://article/b29ff831-cd06-554e-9236-ba504445...             NaN  \n",
      "2  nyt://article/ffce1cce-6da9-5239-adf9-544fa03d...        DealBook  \n",
      "3  nyt://article/93502bf4-3f0f-52fd-81b4-720c1b85...             NaN  \n"
     ]
    }
   ],
   "source": [
    "all_dfs = []\n",
    "word = 'FLU AND CHINA'\n",
    "\n",
    "for month in range(1, 12):\n",
    "    articles = nyt.article_search(\n",
    "    query = word,\n",
    "    results = 100,\n",
    "    dates = {\n",
    "        \"begin\": datetime.datetime(2019, month, 1),\n",
    "        \"end\"  : datetime.datetime(2019, month + 1, 1)\n",
    "    },\n",
    "    options = {\n",
    "        \"sort\": \"oldest\",\n",
    "        \"sources\": [\n",
    "            \"New York Times\",\n",
    "            \"AP\",\n",
    "            \"Reuters\",\n",
    "            \"International Herald Tribune\"\n",
    "        ],\n",
    "        \"news_desk\": [\n",
    "            \"Politics\",\n",
    "            \"Business\",\n",
    "            \"Health\",\n",
    "            \"Society\",\n",
    "            \"Science\",\n",
    "        ],\n",
    "        #\"type_of_material\": [\n",
    "        #    \"News Analysis\"\n",
    "        #]\n",
    "        }\n",
    "    )\n",
    "    df = pd.DataFrame(articles)\n",
    "    all_dfs.append(df)\n",
    "\n",
    "final_df = pd.concat(all_dfs, ignore_index=True)\n",
    "\n",
    "print(final_df)"
   ]
  },
  {
   "cell_type": "code",
   "execution_count": 97,
   "id": "06c6920f-3856-4558-a4f0-e96d6b344f92",
   "metadata": {
    "tags": []
   },
   "outputs": [],
   "source": [
    "#df['pub_date'] = pd.to_datetime(df['pub_date'])"
   ]
  },
  {
   "cell_type": "code",
   "execution_count": 19,
   "id": "88a8ed4d-c00e-4645-811e-1be1538bdbc1",
   "metadata": {
    "tags": []
   },
   "outputs": [
    {
     "name": "stdout",
     "output_type": "stream",
     "text": [
      "nytimes_articles_FLU AND CHINA_2024-01-14.csv saved!\n"
     ]
    }
   ],
   "source": [
    "from datetime import datetime\n",
    "\n",
    "fecha_actual = datetime.now().strftime(\"%Y-%m-%d\")\n",
    "final_df.to_csv(f\"nytimes_articles_{word}_{fecha_actual}.csv\", index=False)\n",
    "print(f\"nytimes_articles_{word}_{fecha_actual}.csv saved!\")"
   ]
  },
  {
   "cell_type": "code",
   "execution_count": null,
   "id": "f3a59704-2bd5-42e4-baba-2818f150b406",
   "metadata": {},
   "outputs": [],
   "source": []
  }
 ],
 "metadata": {
  "kernelspec": {
   "display_name": "Python 3 (ipykernel)",
   "language": "python",
   "name": "python3"
  },
  "language_info": {
   "codemirror_mode": {
    "name": "ipython",
    "version": 3
   },
   "file_extension": ".py",
   "mimetype": "text/x-python",
   "name": "python",
   "nbconvert_exporter": "python",
   "pygments_lexer": "ipython3",
   "version": "3.11.5"
  }
 },
 "nbformat": 4,
 "nbformat_minor": 5
}
